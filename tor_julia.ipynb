{
 "cells": [
  {
   "cell_type": "code",
   "execution_count": 1,
   "id": "b652c146-72ae-40a3-8926-62f74a94abee",
   "metadata": {},
   "outputs": [
    {
     "name": "stdout",
     "output_type": "stream",
     "text": [
      "\u001b[0m\u001b[1mTest Summary:                                                         | \u001b[22m\u001b[32m\u001b[1mPass  \u001b[22m\u001b[39m\u001b[36m\u001b[1mTotal\u001b[22m\u001b[39m\n",
      "Torontonian tests                                                     | \u001b[32m 615  \u001b[39m\u001b[36m  615\u001b[39m\n",
      "  Torontonian (from definition) vs. analytical result                 | \u001b[32m 204  \u001b[39m\u001b[36m  204\u001b[39m\n",
      "  Torontonian (recursive) vs. analytical result                       | \u001b[32m 204  \u001b[39m\u001b[36m  204\u001b[39m\n",
      "  Torontonian (from definition) vs. Torontonian (recursive)           | \u001b[32m 204  \u001b[39m\u001b[36m  204\u001b[39m\n",
      "  Torontonian of two-mode squeezed vacuum with mean photon number 1.0 | \u001b[32m   3  \u001b[39m\u001b[36m    3\u001b[39m\n",
      "\u001b[0m\u001b[1mTest Summary:          | \u001b[22m\u001b[32m\u001b[1mPass  \u001b[22m\u001b[39m\u001b[36m\u001b[1mTotal\u001b[22m\u001b[39m\n",
      "probabilities sum to 1 | \u001b[32m  18  \u001b[39m\u001b[36m   18\u001b[39m\n",
      "\u001b[0m\u001b[1mTest Summary:                           | \u001b[22m\u001b[32m\u001b[1mPass  \u001b[22m\u001b[39m\u001b[36m\u001b[1mTotal\u001b[22m\u001b[39m\n",
      "probabilities are equal in both methods | \u001b[32m2044  \u001b[39m\u001b[36m 2044\u001b[39m\n"
     ]
    }
   ],
   "source": [
    "include(\"./torontonian.jl\");\n",
    "include(\"./tor_tests.jl\"); #this line also runs all the tests in the file"
   ]
  },
  {
   "cell_type": "code",
   "execution_count": 2,
   "id": "02159133-f3b9-4fd6-8f68-5809d1fe2ad1",
   "metadata": {},
   "outputs": [
    {
     "name": "stdout",
     "output_type": "stream",
     "text": [
      "\u001b[0m\u001b[1mTest Summary:                                       | \u001b[22m\u001b[32m\u001b[1mPass  \u001b[22m\u001b[39m\u001b[36m\u001b[1mTotal\u001b[22m\u001b[39m\n",
      "Torontonian (from definition) vs. analytical result | \u001b[32m 204  \u001b[39m\u001b[36m  204\u001b[39m\n"
     ]
    }
   ],
   "source": [
    "#checking that the Torontonian function (from definition) gives the correct analytical results\n",
    "@testset \"Torontonian (from definition) vs. analytical result\" begin\n",
    "    for i = 2:1:13\n",
    "        for k = 1.1:0.37:7.3\n",
    "            @test isapprox(analytical_tor(i, k), tor(gen_omats(i, k)))\n",
    "        end\n",
    "    end\n",
    "end;"
   ]
  },
  {
   "cell_type": "code",
   "execution_count": 3,
   "id": "67473db6-7ce2-412e-a514-15a2a58192f2",
   "metadata": {},
   "outputs": [
    {
     "name": "stdout",
     "output_type": "stream",
     "text": [
      "\u001b[0m\u001b[1mTest Summary:                                 | \u001b[22m\u001b[32m\u001b[1mPass  \u001b[22m\u001b[39m\u001b[36m\u001b[1mTotal\u001b[22m\u001b[39m\n",
      "Torontonian (recursive) vs. analytical result | \u001b[32m 204  \u001b[39m\u001b[36m  204\u001b[39m\n"
     ]
    }
   ],
   "source": [
    "#checking that the Torontonian function (recursive) gives the correct analytical results\n",
    "@testset \"Torontonian (recursive) vs. analytical result\" begin\n",
    "    for i = 2:1:13\n",
    "        for k = 1.1:0.37:7.3\n",
    "            @test isapprox(analytical_tor(i, k), rec_tor(gen_omats(i, k)))\n",
    "        end\n",
    "    end\n",
    "end;"
   ]
  },
  {
   "cell_type": "code",
   "execution_count": 4,
   "id": "c74b70b5-9ab6-4d1f-947f-7b0e8c6d9519",
   "metadata": {},
   "outputs": [
    {
     "name": "stdout",
     "output_type": "stream",
     "text": [
      "pattern | prob (definition) | prob (recursive)\n",
      "[0, 0, 0, 0] | 0.049396549671586736 | 0.049396549671586736\n",
      "[1, 0, 0, 0] | 0.029665100576935374 | 0.029665100576935374\n",
      "[0, 1, 0, 0] | 0.01755499244057341 | 0.01755499244057341\n",
      "[1, 1, 0, 0] | 0.027642719511483407 | 0.027642719511483407\n",
      "[0, 0, 1, 0] | 0.026959656172359132 | 0.026959656172359132\n",
      "[1, 0, 1, 0] | 0.025314970564479112 | 0.025314970564479112\n",
      "[0, 1, 1, 0] | 0.02478234548550178 | 0.02478234548550178\n",
      "[1, 1, 1, 0] | 0.03597949936677541 | 0.03597949936677541\n",
      "[0, 0, 0, 1] | 0.04254968966897921 | 0.04254968966897921\n",
      "[1, 0, 0, 1] | 0.028503822740049065 | 0.028503822740049065\n",
      "[0, 1, 0, 1] | 0.0957099548509343 | 0.09570995485093425\n",
      "[1, 1, 0, 1] | 0.15006597614034503 | 0.1500659761403449\n",
      "[0, 0, 1, 1] | 0.04194334297936686 | 0.04194334297936685\n",
      "[1, 0, 1, 1] | 0.0418134383534186 | 0.04181343835341859\n",
      "[0, 1, 1, 1] | 0.11252084633520647 | 0.11252084633520643\n",
      "[1, 1, 1, 1] | 0.24959709514200612 | 0.24959709514200584\n"
     ]
    }
   ],
   "source": [
    "#Computing threshold detection probabilities\n",
    "N = 4 #number of modes\n",
    "cov = random_covariance(N) #rendom covariance matrix\n",
    "println(\"pattern\", \" | \", \"prob (definition)\", \" | \", \"prob (recursive)\")\n",
    "for p in product([[0 1] for i = 1:N]...) #this line generates all possible detection patterns\n",
    "    pattern = collect(p)\n",
    "    prob_df = threshold_detection_prob(cov, pattern, recursive = false)\n",
    "    prob_rc = threshold_detection_prob(cov, pattern, recursive = true)\n",
    "    println(pattern, \" | \", real(prob_df), \" | \", real(prob_rc))\n",
    "end"
   ]
  }
 ],
 "metadata": {
  "kernelspec": {
   "display_name": "Julia 1.7.3",
   "language": "julia",
   "name": "julia-1.7"
  },
  "language_info": {
   "file_extension": ".jl",
   "mimetype": "application/julia",
   "name": "julia",
   "version": "1.7.3"
  }
 },
 "nbformat": 4,
 "nbformat_minor": 5
}
